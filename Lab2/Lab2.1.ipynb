{
 "cells": [
  {
   "cell_type": "code",
   "execution_count": 1,
   "metadata": {},
   "outputs": [],
   "source": [
    "import numpy as np\n",
    "import pandas as pd\n",
    "pd.set_option('display.max.columns', 100)\n",
    "# to draw pictures in jupyter notebook\n",
    "%matplotlib inline \n",
    "import matplotlib.pyplot as plt\n",
    "import seaborn as sns"
   ]
  },
  {
   "cell_type": "code",
   "execution_count": 29,
   "metadata": {},
   "outputs": [
    {
     "data": {
      "text/html": [
       "<div>\n",
       "<style scoped>\n",
       "    .dataframe tbody tr th:only-of-type {\n",
       "        vertical-align: middle;\n",
       "    }\n",
       "\n",
       "    .dataframe tbody tr th {\n",
       "        vertical-align: top;\n",
       "    }\n",
       "\n",
       "    .dataframe thead th {\n",
       "        text-align: right;\n",
       "    }\n",
       "</style>\n",
       "<table border=\"1\" class=\"dataframe\">\n",
       "  <thead>\n",
       "    <tr style=\"text-align: right;\">\n",
       "      <th></th>\n",
       "      <th>age</th>\n",
       "      <th>workclass</th>\n",
       "      <th>fnlwgt</th>\n",
       "      <th>education</th>\n",
       "      <th>education-num</th>\n",
       "      <th>marital-status</th>\n",
       "      <th>occupation</th>\n",
       "      <th>relationship</th>\n",
       "      <th>race</th>\n",
       "      <th>sex</th>\n",
       "      <th>capital-gain</th>\n",
       "      <th>capital-loss</th>\n",
       "      <th>hours-per-week</th>\n",
       "      <th>native-country</th>\n",
       "      <th>salary</th>\n",
       "    </tr>\n",
       "  </thead>\n",
       "  <tbody>\n",
       "    <tr>\n",
       "      <th>0</th>\n",
       "      <td>39</td>\n",
       "      <td>State-gov</td>\n",
       "      <td>77516</td>\n",
       "      <td>Bachelors</td>\n",
       "      <td>13</td>\n",
       "      <td>Never-married</td>\n",
       "      <td>Adm-clerical</td>\n",
       "      <td>Not-in-family</td>\n",
       "      <td>White</td>\n",
       "      <td>Male</td>\n",
       "      <td>2174</td>\n",
       "      <td>0</td>\n",
       "      <td>40</td>\n",
       "      <td>United-States</td>\n",
       "      <td>&lt;=50K</td>\n",
       "    </tr>\n",
       "    <tr>\n",
       "      <th>1</th>\n",
       "      <td>50</td>\n",
       "      <td>Self-emp-not-inc</td>\n",
       "      <td>83311</td>\n",
       "      <td>Bachelors</td>\n",
       "      <td>13</td>\n",
       "      <td>Married-civ-spouse</td>\n",
       "      <td>Exec-managerial</td>\n",
       "      <td>Husband</td>\n",
       "      <td>White</td>\n",
       "      <td>Male</td>\n",
       "      <td>0</td>\n",
       "      <td>0</td>\n",
       "      <td>13</td>\n",
       "      <td>United-States</td>\n",
       "      <td>&lt;=50K</td>\n",
       "    </tr>\n",
       "    <tr>\n",
       "      <th>2</th>\n",
       "      <td>38</td>\n",
       "      <td>Private</td>\n",
       "      <td>215646</td>\n",
       "      <td>HS-grad</td>\n",
       "      <td>9</td>\n",
       "      <td>Divorced</td>\n",
       "      <td>Handlers-cleaners</td>\n",
       "      <td>Not-in-family</td>\n",
       "      <td>White</td>\n",
       "      <td>Male</td>\n",
       "      <td>0</td>\n",
       "      <td>0</td>\n",
       "      <td>40</td>\n",
       "      <td>United-States</td>\n",
       "      <td>&lt;=50K</td>\n",
       "    </tr>\n",
       "    <tr>\n",
       "      <th>3</th>\n",
       "      <td>53</td>\n",
       "      <td>Private</td>\n",
       "      <td>234721</td>\n",
       "      <td>11th</td>\n",
       "      <td>7</td>\n",
       "      <td>Married-civ-spouse</td>\n",
       "      <td>Handlers-cleaners</td>\n",
       "      <td>Husband</td>\n",
       "      <td>Black</td>\n",
       "      <td>Male</td>\n",
       "      <td>0</td>\n",
       "      <td>0</td>\n",
       "      <td>40</td>\n",
       "      <td>United-States</td>\n",
       "      <td>&lt;=50K</td>\n",
       "    </tr>\n",
       "    <tr>\n",
       "      <th>4</th>\n",
       "      <td>28</td>\n",
       "      <td>Private</td>\n",
       "      <td>338409</td>\n",
       "      <td>Bachelors</td>\n",
       "      <td>13</td>\n",
       "      <td>Married-civ-spouse</td>\n",
       "      <td>Prof-specialty</td>\n",
       "      <td>Wife</td>\n",
       "      <td>Black</td>\n",
       "      <td>Female</td>\n",
       "      <td>0</td>\n",
       "      <td>0</td>\n",
       "      <td>40</td>\n",
       "      <td>Cuba</td>\n",
       "      <td>&lt;=50K</td>\n",
       "    </tr>\n",
       "  </tbody>\n",
       "</table>\n",
       "</div>"
      ],
      "text/plain": [
       "   age         workclass  fnlwgt  education  education-num  \\\n",
       "0   39         State-gov   77516  Bachelors             13   \n",
       "1   50  Self-emp-not-inc   83311  Bachelors             13   \n",
       "2   38           Private  215646    HS-grad              9   \n",
       "3   53           Private  234721       11th              7   \n",
       "4   28           Private  338409  Bachelors             13   \n",
       "\n",
       "       marital-status         occupation   relationship   race     sex  \\\n",
       "0       Never-married       Adm-clerical  Not-in-family  White    Male   \n",
       "1  Married-civ-spouse    Exec-managerial        Husband  White    Male   \n",
       "2            Divorced  Handlers-cleaners  Not-in-family  White    Male   \n",
       "3  Married-civ-spouse  Handlers-cleaners        Husband  Black    Male   \n",
       "4  Married-civ-spouse     Prof-specialty           Wife  Black  Female   \n",
       "\n",
       "   capital-gain  capital-loss  hours-per-week native-country salary  \n",
       "0          2174             0              40  United-States  <=50K  \n",
       "1             0             0              13  United-States  <=50K  \n",
       "2             0             0              40  United-States  <=50K  \n",
       "3             0             0              40  United-States  <=50K  \n",
       "4             0             0              40           Cuba  <=50K  "
      ]
     },
     "execution_count": 29,
     "metadata": {},
     "output_type": "execute_result"
    }
   ],
   "source": [
    "data = pd.read_csv('../../ML_datasets/adult.data.csv')\n",
    "data.head()"
   ]
  },
  {
   "cell_type": "code",
   "execution_count": 3,
   "metadata": {},
   "outputs": [
    {
     "data": {
      "text/plain": [
       "Male      21790\n",
       "Female    10771\n",
       "Name: sex, dtype: int64"
      ]
     },
     "execution_count": 3,
     "metadata": {},
     "output_type": "execute_result"
    }
   ],
   "source": [
    "data['sex'].value_counts()"
   ]
  },
  {
   "cell_type": "code",
   "execution_count": 5,
   "metadata": {},
   "outputs": [
    {
     "data": {
      "text/plain": [
       "36.85823043357163"
      ]
     },
     "execution_count": 5,
     "metadata": {},
     "output_type": "execute_result"
    }
   ],
   "source": [
    "#average age of women\n",
    "females = data.loc[data['sex']=='Female']\n",
    "females['age'].mean()"
   ]
  },
  {
   "cell_type": "code",
   "execution_count": 11,
   "metadata": {},
   "outputs": [
    {
     "data": {
      "text/plain": [
       "0.004207487485028101"
      ]
     },
     "execution_count": 11,
     "metadata": {},
     "output_type": "execute_result"
    }
   ],
   "source": [
    "#proportion of German citizens\n",
    "all_citizens = data['native-country'].count()\n",
    "german_citizens = float((data['native-country'] == 'Germany').sum())\n",
    "german_citizens/all_citizens"
   ]
  },
  {
   "cell_type": "code",
   "execution_count": 13,
   "metadata": {},
   "outputs": [
    {
     "name": "stdout",
     "output_type": "stream",
     "text": [
      "37 14\n",
      "44 11\n"
     ]
    }
   ],
   "source": [
    "#mean value and standard deviation of the age of people with salary <=50K and >50K\n",
    "group1 = data.loc[data['salary'] == '<=50K', 'age']\n",
    "group2 = data.loc[data['salary'] == '>50K', 'age']\n",
    "print(round(group1.mean()), round(group1.std()))\n",
    "print(round(group2.mean()), round(group2.std()))"
   ]
  },
  {
   "cell_type": "code",
   "execution_count": 14,
   "metadata": {},
   "outputs": [
    {
     "data": {
      "text/plain": [
       "array(['HS-grad', 'Masters', 'Bachelors', 'Some-college', 'Assoc-voc',\n",
       "       'Doctorate', 'Prof-school', 'Assoc-acdm', '7th-8th', '12th',\n",
       "       '10th', '11th', '9th', '5th-6th', '1st-4th'], dtype=object)"
      ]
     },
     "execution_count": 14,
     "metadata": {},
     "output_type": "execute_result"
    }
   ],
   "source": [
    "#Is it true that people who receive >=50k have at least high school education?\n",
    "data.loc[data['salary'] == '>50K', 'education'].unique()\n",
    "#No"
   ]
  },
  {
   "cell_type": "code",
   "execution_count": 17,
   "metadata": {},
   "outputs": [
    {
     "name": "stdout",
     "output_type": "stream",
     "text": [
      "Race: Amer-Indian-Eskimo | Sex: Female\n",
      "count    119.000000\n",
      "mean      37.117647\n",
      "std       13.114991\n",
      "min       17.000000\n",
      "25%       27.000000\n",
      "50%       36.000000\n",
      "75%       46.000000\n",
      "max       80.000000\n",
      "Name: age, dtype: float64\n",
      "Race: Amer-Indian-Eskimo | Sex: Male\n",
      "count    192.000000\n",
      "mean      37.208333\n",
      "std       12.049563\n",
      "min       17.000000\n",
      "25%       28.000000\n",
      "50%       35.000000\n",
      "75%       45.000000\n",
      "max       82.000000\n",
      "Name: age, dtype: float64\n",
      "Race: Asian-Pac-Islander | Sex: Female\n",
      "count    346.000000\n",
      "mean      35.089595\n",
      "std       12.300845\n",
      "min       17.000000\n",
      "25%       25.000000\n",
      "50%       33.000000\n",
      "75%       43.750000\n",
      "max       75.000000\n",
      "Name: age, dtype: float64\n",
      "Race: Asian-Pac-Islander | Sex: Male\n",
      "count    693.000000\n",
      "mean      39.073593\n",
      "std       12.883944\n",
      "min       18.000000\n",
      "25%       29.000000\n",
      "50%       37.000000\n",
      "75%       46.000000\n",
      "max       90.000000\n",
      "Name: age, dtype: float64\n",
      "Race: Black | Sex: Female\n",
      "count    1555.000000\n",
      "mean       37.854019\n",
      "std        12.637197\n",
      "min        17.000000\n",
      "25%        28.000000\n",
      "50%        37.000000\n",
      "75%        46.000000\n",
      "max        90.000000\n",
      "Name: age, dtype: float64\n",
      "Race: Black | Sex: Male\n",
      "count    1569.000000\n",
      "mean       37.682600\n",
      "std        12.882612\n",
      "min        17.000000\n",
      "25%        27.000000\n",
      "50%        36.000000\n",
      "75%        46.000000\n",
      "max        90.000000\n",
      "Name: age, dtype: float64\n",
      "Race: Other | Sex: Female\n",
      "count    109.000000\n",
      "mean      31.678899\n",
      "std       11.631599\n",
      "min       17.000000\n",
      "25%       23.000000\n",
      "50%       29.000000\n",
      "75%       39.000000\n",
      "max       74.000000\n",
      "Name: age, dtype: float64\n",
      "Race: Other | Sex: Male\n",
      "count    162.000000\n",
      "mean      34.654321\n",
      "std       11.355531\n",
      "min       17.000000\n",
      "25%       26.000000\n",
      "50%       32.000000\n",
      "75%       42.000000\n",
      "max       77.000000\n",
      "Name: age, dtype: float64\n",
      "Race: White | Sex: Female\n",
      "count    8642.000000\n",
      "mean       36.811618\n",
      "std        14.329093\n",
      "min        17.000000\n",
      "25%        25.000000\n",
      "50%        35.000000\n",
      "75%        46.000000\n",
      "max        90.000000\n",
      "Name: age, dtype: float64\n",
      "Race: White | Sex: Male\n",
      "count    19174.000000\n",
      "mean        39.652498\n",
      "std         13.436029\n",
      "min         17.000000\n",
      "25%         29.000000\n",
      "50%         38.000000\n",
      "75%         49.000000\n",
      "max         90.000000\n",
      "Name: age, dtype: float64\n"
     ]
    }
   ],
   "source": [
    "#Age statistics for each race and each gender.\n",
    "#Maximum age of men of Amer-Indian-Eskimo race.\n",
    "\n",
    "for (race, sex), sub_data in data.groupby(['race','sex']):\n",
    "    print('Race:', race, '| Sex:', sex)\n",
    "    print(sub_data['age'].describe())"
   ]
  },
  {
   "cell_type": "code",
   "execution_count": 21,
   "metadata": {},
   "outputs": [
    {
     "name": "stdout",
     "output_type": "stream",
     "text": [
      "0.4405139945351156\n"
     ]
    }
   ],
   "source": [
    "# Among whom is the proportion of those who earn >50K greater: married or single men?\n",
    "#data['marital-status'].value_counts()\n",
    "all_married_men = data['salary'].loc[(data['marital-status'].str.startswith('Married'))\n",
    "                                     & (data['sex'] == 'Male')].count()\n",
    "married_men = data['salary'].loc[(data['marital-status'].str.startswith('Married')) \n",
    "                                 & (data['sex'] == 'Male') & (data['salary'] == '>50K')].count()\n",
    "print(married_men / all_married_men)"
   ]
  },
  {
   "cell_type": "code",
   "execution_count": 22,
   "metadata": {},
   "outputs": [
    {
     "name": "stdout",
     "output_type": "stream",
     "text": [
      "0.08449509031397745\n"
     ]
    }
   ],
   "source": [
    "data['marital-status'].unique()\n",
    "arr = ['Never-married', 'Separated', 'Divorced','Widowed']\n",
    "\n",
    "all_notmarried_men = data['salary'].loc[(data['marital-status'].isin(arr))\n",
    "                                     & (data['sex'] == 'Male')].count()\n",
    "notmarried_men = data['salary'].loc[(data['marital-status'].isin(arr)) \n",
    "                                 & (data['sex'] == 'Male') & (data['salary'] == '>50K')].count()\n",
    "print(notmarried_men / all_notmarried_men)\n",
    "#among married men"
   ]
  },
  {
   "cell_type": "code",
   "execution_count": 25,
   "metadata": {},
   "outputs": [
    {
     "name": "stdout",
     "output_type": "stream",
     "text": [
      "Max hours-per-week - 99\n",
      "Num of people working like that - 85\n",
      "Percentage of rich - 29\n"
     ]
    }
   ],
   "source": [
    "#Find maximum number of hours a person works per week\n",
    "#How many people work maxHours, and what is the percentage of those who earn >50K among them?\n",
    "max_hours = data['hours-per-week'].max()\n",
    "people_max_hours = data[data['hours-per-week'] == max_hours].shape[0]\n",
    "rich_people = data[(data['hours-per-week'] == max_hours) \n",
    "                                 &(data['salary'] == '>50K')].shape[0]\n",
    "\n",
    "print('Max hours-per-week -', max_hours)\n",
    "print('Num of people working like that -', people_max_hours)\n",
    "print('Percentage of rich -', int(100 * (rich_people / people_max_hours)))"
   ]
  },
  {
   "cell_type": "code",
   "execution_count": 30,
   "metadata": {},
   "outputs": [
    {
     "name": "stdout",
     "output_type": "stream",
     "text": [
      "? <=50K 40\n",
      "? >50K 46\n",
      "Cambodia <=50K 41\n",
      "Cambodia >50K 40\n",
      "Canada <=50K 38\n",
      "Canada >50K 46\n",
      "China <=50K 37\n",
      "China >50K 39\n",
      "Columbia <=50K 39\n",
      "Columbia >50K 50\n",
      "Cuba <=50K 38\n",
      "Cuba >50K 42\n",
      "Dominican-Republic <=50K 42\n",
      "Dominican-Republic >50K 47\n",
      "Ecuador <=50K 38\n",
      "Ecuador >50K 49\n",
      "El-Salvador <=50K 36\n",
      "El-Salvador >50K 45\n",
      "England <=50K 40\n",
      "England >50K 45\n",
      "France <=50K 41\n",
      "France >50K 51\n",
      "Germany <=50K 39\n",
      "Germany >50K 45\n",
      "Greece <=50K 42\n",
      "Greece >50K 51\n",
      "Guatemala <=50K 39\n",
      "Guatemala >50K 37\n",
      "Haiti <=50K 36\n",
      "Haiti >50K 43\n",
      "Holand-Netherlands <=50K 40\n",
      "Honduras <=50K 34\n",
      "Honduras >50K 60\n",
      "Hong <=50K 39\n",
      "Hong >50K 45\n",
      "Hungary <=50K 31\n",
      "Hungary >50K 50\n",
      "India <=50K 38\n",
      "India >50K 46\n",
      "Iran <=50K 41\n",
      "Iran >50K 48\n",
      "Ireland <=50K 41\n",
      "Ireland >50K 48\n",
      "Italy <=50K 40\n",
      "Italy >50K 45\n",
      "Jamaica <=50K 38\n",
      "Jamaica >50K 41\n",
      "Japan <=50K 41\n",
      "Japan >50K 48\n",
      "Laos <=50K 40\n",
      "Laos >50K 40\n",
      "Mexico <=50K 40\n",
      "Mexico >50K 47\n",
      "Nicaragua <=50K 36\n",
      "Nicaragua >50K 38\n",
      "Outlying-US(Guam-USVI-etc) <=50K 42\n",
      "Peru <=50K 35\n",
      "Peru >50K 40\n",
      "Philippines <=50K 38\n",
      "Philippines >50K 43\n",
      "Poland <=50K 38\n",
      "Poland >50K 39\n",
      "Portugal <=50K 42\n",
      "Portugal >50K 42\n",
      "Puerto-Rico <=50K 38\n",
      "Puerto-Rico >50K 39\n",
      "Scotland <=50K 39\n",
      "Scotland >50K 47\n",
      "South <=50K 40\n",
      "South >50K 51\n",
      "Taiwan <=50K 34\n",
      "Taiwan >50K 47\n",
      "Thailand <=50K 43\n",
      "Thailand >50K 58\n",
      "Trinadad&Tobago <=50K 37\n",
      "Trinadad&Tobago >50K 40\n",
      "United-States <=50K 39\n",
      "United-States >50K 46\n",
      "Vietnam <=50K 37\n",
      "Vietnam >50K 39\n",
      "Yugoslavia <=50K 42\n",
      "Yugoslavia >50K 50\n"
     ]
    }
   ],
   "source": [
    "#Count the average time of work (hours-per-week) for those who earn a little and a lot for each country.\n",
    "#What will these be for Japan?\n",
    "\n",
    "for (country, salary), sub_data in data.groupby(['native-country', 'salary']):\n",
    "    print(country, salary, round(sub_data['hours-per-week'].mean()))"
   ]
  },
  {
   "cell_type": "code",
   "execution_count": null,
   "metadata": {},
   "outputs": [],
   "source": []
  }
 ],
 "metadata": {
  "kernelspec": {
   "display_name": "Python 3",
   "language": "python",
   "name": "python3"
  },
  "language_info": {
   "codemirror_mode": {
    "name": "ipython",
    "version": 3
   },
   "file_extension": ".py",
   "mimetype": "text/x-python",
   "name": "python",
   "nbconvert_exporter": "python",
   "pygments_lexer": "ipython3",
   "version": "3.6.4"
  }
 },
 "nbformat": 4,
 "nbformat_minor": 2
}
